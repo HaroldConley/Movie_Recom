{
 "cells": [
  {
   "attachments": {},
   "cell_type": "markdown",
   "metadata": {},
   "source": [
    "# Importación y exploración"
   ]
  },
  {
   "cell_type": "code",
   "execution_count": 26,
   "metadata": {},
   "outputs": [],
   "source": [
    "import pandas as pd"
   ]
  },
  {
   "cell_type": "code",
   "execution_count": 27,
   "metadata": {},
   "outputs": [
    {
     "data": {
      "text/html": [
       "<div>\n",
       "<style scoped>\n",
       "    .dataframe tbody tr th:only-of-type {\n",
       "        vertical-align: middle;\n",
       "    }\n",
       "\n",
       "    .dataframe tbody tr th {\n",
       "        vertical-align: top;\n",
       "    }\n",
       "\n",
       "    .dataframe thead th {\n",
       "        text-align: right;\n",
       "    }\n",
       "</style>\n",
       "<table border=\"1\" class=\"dataframe\">\n",
       "  <thead>\n",
       "    <tr style=\"text-align: right;\">\n",
       "      <th></th>\n",
       "      <th>Release Year</th>\n",
       "      <th>Title</th>\n",
       "      <th>Origin/Ethnicity</th>\n",
       "      <th>Director</th>\n",
       "      <th>Cast</th>\n",
       "      <th>Genre</th>\n",
       "      <th>Wiki Page</th>\n",
       "      <th>Plot</th>\n",
       "      <th>movieId</th>\n",
       "      <th>title</th>\n",
       "      <th>genres</th>\n",
       "    </tr>\n",
       "  </thead>\n",
       "  <tbody>\n",
       "    <tr>\n",
       "      <th>0</th>\n",
       "      <td>1903</td>\n",
       "      <td>alice in wonderland</td>\n",
       "      <td>American</td>\n",
       "      <td>Cecil Hepworth</td>\n",
       "      <td>May Clark</td>\n",
       "      <td>unknown</td>\n",
       "      <td>https://en.wikipedia.org/wiki/Alice_in_Wonderl...</td>\n",
       "      <td>Alice follows a large white rabbit down a \"Rab...</td>\n",
       "      <td>1032.0</td>\n",
       "      <td>alice in wonderland</td>\n",
       "      <td>Adventure|Animation|Children|Fantasy|Musical</td>\n",
       "    </tr>\n",
       "    <tr>\n",
       "      <th>1</th>\n",
       "      <td>1903</td>\n",
       "      <td>the great train robbery</td>\n",
       "      <td>American</td>\n",
       "      <td>Edwin S. Porter</td>\n",
       "      <td>NaN</td>\n",
       "      <td>western</td>\n",
       "      <td>https://en.wikipedia.org/wiki/The_Great_Train_...</td>\n",
       "      <td>The film opens with two bandits breaking into ...</td>\n",
       "      <td>6990.0</td>\n",
       "      <td>the great train robbery</td>\n",
       "      <td>Action|Adventure|Comedy|Crime|Drama</td>\n",
       "    </tr>\n",
       "    <tr>\n",
       "      <th>2</th>\n",
       "      <td>1910</td>\n",
       "      <td>frankenstein</td>\n",
       "      <td>American</td>\n",
       "      <td>J. Searle Dawley</td>\n",
       "      <td>Augustus Phillips, Charles Stanton Ogle, Mary ...</td>\n",
       "      <td>unknown</td>\n",
       "      <td>https://en.wikipedia.org/wiki/Frankenstein_(19...</td>\n",
       "      <td>Described as \"a liberal adaptation of Mrs. She...</td>\n",
       "      <td>2648.0</td>\n",
       "      <td>frankenstein</td>\n",
       "      <td>Drama|Horror|Sci-Fi</td>\n",
       "    </tr>\n",
       "    <tr>\n",
       "      <th>3</th>\n",
       "      <td>1910</td>\n",
       "      <td>pocahontas</td>\n",
       "      <td>American</td>\n",
       "      <td>Unknown</td>\n",
       "      <td>Anna Rosemond, George Barnes, Frank H. Crane</td>\n",
       "      <td>short fantasy</td>\n",
       "      <td>https://en.wikipedia.org/wiki/Pocahontas_(1910...</td>\n",
       "      <td>Though the film is presumed lost, a synopsis s...</td>\n",
       "      <td>48.0</td>\n",
       "      <td>pocahontas</td>\n",
       "      <td>Animation|Children|Drama|Musical|Romance</td>\n",
       "    </tr>\n",
       "    <tr>\n",
       "      <th>4</th>\n",
       "      <td>1912</td>\n",
       "      <td>dr. jekyll and mr. hyde</td>\n",
       "      <td>American</td>\n",
       "      <td>Lucius Henderson</td>\n",
       "      <td>James Cruze</td>\n",
       "      <td>horror</td>\n",
       "      <td>https://en.wikipedia.org/wiki/Dr._Jekyll_and_M...</td>\n",
       "      <td>White-haired Dr. Jekyll has secretly locked hi...</td>\n",
       "      <td>7208.0</td>\n",
       "      <td>dr. jekyll and mr. hyde</td>\n",
       "      <td>Drama|Horror</td>\n",
       "    </tr>\n",
       "  </tbody>\n",
       "</table>\n",
       "</div>"
      ],
      "text/plain": [
       "   Release Year                    Title Origin/Ethnicity          Director  \\\n",
       "0          1903      alice in wonderland         American    Cecil Hepworth   \n",
       "1          1903  the great train robbery         American   Edwin S. Porter   \n",
       "2          1910             frankenstein         American  J. Searle Dawley   \n",
       "3          1910               pocahontas         American           Unknown   \n",
       "4          1912  dr. jekyll and mr. hyde         American  Lucius Henderson   \n",
       "\n",
       "                                                Cast          Genre  \\\n",
       "0                                          May Clark        unknown   \n",
       "1                                                NaN        western   \n",
       "2  Augustus Phillips, Charles Stanton Ogle, Mary ...        unknown   \n",
       "3       Anna Rosemond, George Barnes, Frank H. Crane  short fantasy   \n",
       "4                                        James Cruze         horror   \n",
       "\n",
       "                                           Wiki Page  \\\n",
       "0  https://en.wikipedia.org/wiki/Alice_in_Wonderl...   \n",
       "1  https://en.wikipedia.org/wiki/The_Great_Train_...   \n",
       "2  https://en.wikipedia.org/wiki/Frankenstein_(19...   \n",
       "3  https://en.wikipedia.org/wiki/Pocahontas_(1910...   \n",
       "4  https://en.wikipedia.org/wiki/Dr._Jekyll_and_M...   \n",
       "\n",
       "                                                Plot  movieId  \\\n",
       "0  Alice follows a large white rabbit down a \"Rab...   1032.0   \n",
       "1  The film opens with two bandits breaking into ...   6990.0   \n",
       "2  Described as \"a liberal adaptation of Mrs. She...   2648.0   \n",
       "3  Though the film is presumed lost, a synopsis s...     48.0   \n",
       "4  White-haired Dr. Jekyll has secretly locked hi...   7208.0   \n",
       "\n",
       "                     title                                        genres  \n",
       "0      alice in wonderland  Adventure|Animation|Children|Fantasy|Musical  \n",
       "1  the great train robbery           Action|Adventure|Comedy|Crime|Drama  \n",
       "2             frankenstein                           Drama|Horror|Sci-Fi  \n",
       "3               pocahontas      Animation|Children|Drama|Musical|Romance  \n",
       "4  dr. jekyll and mr. hyde                                  Drama|Horror  "
      ]
     },
     "execution_count": 27,
     "metadata": {},
     "output_type": "execute_result"
    }
   ],
   "source": [
    "movies = pd.read_csv('../data/raw/0_inicial/movies.csv')\n",
    "movies.drop('Unnamed: 0', inplace=True, axis=1)\n",
    "movies.head()"
   ]
  },
  {
   "cell_type": "code",
   "execution_count": 28,
   "metadata": {},
   "outputs": [
    {
     "name": "stdout",
     "output_type": "stream",
     "text": [
      "<class 'pandas.core.frame.DataFrame'>\n",
      "RangeIndex: 4750 entries, 0 to 4749\n",
      "Data columns (total 11 columns):\n",
      " #   Column            Non-Null Count  Dtype  \n",
      "---  ------            --------------  -----  \n",
      " 0   Release Year      4750 non-null   int64  \n",
      " 1   Title             4750 non-null   object \n",
      " 2   Origin/Ethnicity  4750 non-null   object \n",
      " 3   Director          4750 non-null   object \n",
      " 4   Cast              4697 non-null   object \n",
      " 5   Genre             4750 non-null   object \n",
      " 6   Wiki Page         4750 non-null   object \n",
      " 7   Plot              4750 non-null   object \n",
      " 8   movieId           4750 non-null   float64\n",
      " 9   title             4750 non-null   object \n",
      " 10  genres            4750 non-null   object \n",
      "dtypes: float64(1), int64(1), object(9)\n",
      "memory usage: 408.3+ KB\n"
     ]
    }
   ],
   "source": [
    "movies.info()"
   ]
  },
  {
   "attachments": {},
   "cell_type": "markdown",
   "metadata": {},
   "source": [
    "# Analizando los géneros en la columna 'genres'"
   ]
  },
  {
   "cell_type": "code",
   "execution_count": 32,
   "metadata": {},
   "outputs": [
    {
     "name": "stdout",
     "output_type": "stream",
     "text": [
      "0    Adventure|Animation|Children|Fantasy|Musical\n",
      "1             Action|Adventure|Comedy|Crime|Drama\n",
      "2                             Drama|Horror|Sci-Fi\n",
      "3        Animation|Children|Drama|Musical|Romance\n",
      "4                                    Drama|Horror\n",
      "Name: genres, dtype: object\n",
      "639\n"
     ]
    }
   ],
   "source": [
    "print(movies['genres'].head())\n",
    "\n",
    "print(len(movies['genres'].unique()))"
   ]
  },
  {
   "attachments": {},
   "cell_type": "markdown",
   "metadata": {},
   "source": [
    "Hay 639 entradas distintas de géneros, pero en realidad son combinaciones de géneros.\n",
    "¿Cuántos géneros únicos hay en realidad?"
   ]
  },
  {
   "cell_type": "code",
   "execution_count": 61,
   "metadata": {},
   "outputs": [
    {
     "name": "stdout",
     "output_type": "stream",
     "text": [
      "['Fantasy', 'Western', 'Horror', 'War', 'Film-Noir', 'Adventure', 'Thriller', 'Drama', 'IMAX', '(no genres listed)', 'Sci-Fi', 'Crime', 'Mystery', 'Comedy', 'Musical', 'Children', 'Action', 'Romance', 'Documentary', 'Animation']\n",
      "20\n"
     ]
    }
   ],
   "source": [
    "# Voy a generar una lista con los géneros únicos.\n",
    "generos_separados = [generos.split(sep='|') for generos in movies['genres']]\n",
    "\n",
    "generos_simples = [genero for lista in generos_separados for genero in lista]\n",
    "generos_unicos = list(set(generos_simples))\n",
    "\n",
    "print(generos_unicos)\n",
    "print(len(generos_unicos))"
   ]
  },
  {
   "cell_type": "code",
   "execution_count": null,
   "metadata": {},
   "outputs": [],
   "source": []
  },
  {
   "attachments": {},
   "cell_type": "markdown",
   "metadata": {},
   "source": [
    "Hay 20 géneros únicos. Una cantidad mucho más lógica y manejable para poder usar como metadata de las películas."
   ]
  },
  {
   "attachments": {},
   "cell_type": "markdown",
   "metadata": {},
   "source": [
    "# Conclusión\n",
    "Teniendo en mente que el objetivo inicial es hacer un recomendador de películas en base a los plots, pero que a futuro se pueda mejorar agregando metadata de las películas, se recomienda:\n",
    "* Eliminar las columnas 'Genre', 'Wiki Page' y 'title', ya que no aportan metadata importante o repiten información de otras columnas,\n",
    "* Cuando se quiera utilizar el género de la pelíucla como metadata, usar la lista de generos únicos"
   ]
  }
 ],
 "metadata": {
  "kernelspec": {
   "display_name": "Python 3",
   "language": "python",
   "name": "python3"
  },
  "language_info": {
   "codemirror_mode": {
    "name": "ipython",
    "version": 3
   },
   "file_extension": ".py",
   "mimetype": "text/x-python",
   "name": "python",
   "nbconvert_exporter": "python",
   "pygments_lexer": "ipython3",
   "version": "3.10.10"
  },
  "orig_nbformat": 4
 },
 "nbformat": 4,
 "nbformat_minor": 2
}
